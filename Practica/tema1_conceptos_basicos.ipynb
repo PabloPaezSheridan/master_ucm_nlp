{
  "nbformat": 4,
  "nbformat_minor": 0,
  "metadata": {
    "colab": {
      "provenance": [],
      "authorship_tag": "ABX9TyOGbJ5AC1+Jgh4/qpwxBJQ5"
    },
    "kernelspec": {
      "name": "python3",
      "display_name": "Python 3"
    },
    "language_info": {
      "name": "python"
    }
  },
  "cells": [
    {
      "cell_type": "markdown",
      "source": [
        "# Tokenizer"
      ],
      "metadata": {
        "id": "YnAeq76d6BlN"
      }
    },
    {
      "cell_type": "code",
      "execution_count": 1,
      "metadata": {
        "id": "PvNhmG2SGOe4",
        "outputId": "1b7c3c33-0eb3-4b79-9a7f-7e356dde73cd",
        "colab": {
          "base_uri": "https://localhost:8080/"
        }
      },
      "outputs": [
        {
          "output_type": "execute_result",
          "data": {
            "text/plain": [
              "['Soy',\n",
              " 'muy',\n",
              " 'proclive',\n",
              " 'a',\n",
              " 'enroscarme',\n",
              " 'en',\n",
              " 'soluciones',\n",
              " 'que',\n",
              " 'no',\n",
              " 'funcionan']"
            ]
          },
          "metadata": {},
          "execution_count": 1
        }
      ],
      "source": [
        "\n",
        "sentences = [\"Soy muy proclive a enroscarme en soluciones que no funcionan\", \"Tengo que cambiar eso\"]\n",
        "\n",
        "\n",
        "sentences[0].split()"
      ]
    },
    {
      "cell_type": "code",
      "source": [
        "\n",
        "from tensorflow.keras.preprocessing.text import Tokenizer\n",
        "\n",
        "tokenizer = Tokenizer()\n",
        "tokenizer.fit_on_texts(sentences)\n",
        "\n",
        "tokenizer.index_word\n",
        "tokenizer.texts_to_sequences(sentences)"
      ],
      "metadata": {
        "id": "YuWu19jF6Mdp",
        "outputId": "53df0962-8a14-430b-c373-46158bfdf21d",
        "colab": {
          "base_uri": "https://localhost:8080/"
        }
      },
      "execution_count": 2,
      "outputs": [
        {
          "output_type": "execute_result",
          "data": {
            "text/plain": [
              "[[2, 3, 4, 5, 6, 7, 8, 1, 9, 10], [11, 1, 12, 13]]"
            ]
          },
          "metadata": {},
          "execution_count": 2
        }
      ]
    },
    {
      "cell_type": "code",
      "source": [
        "\n",
        "tokenizer = Tokenizer(num_words=6, oov_token='')\n",
        "tokenizer.fit_on_texts(sentences)\n",
        "tokenizer.texts_to_sequences(sentences)"
      ],
      "metadata": {
        "id": "d7aSsWUB6RQh",
        "outputId": "256a8b3e-3e37-493a-ed4a-cda5aa16472b",
        "colab": {
          "base_uri": "https://localhost:8080/"
        }
      },
      "execution_count": 3,
      "outputs": [
        {
          "output_type": "execute_result",
          "data": {
            "text/plain": [
              "[[3, 4, 5, 1, 1, 1, 1, 2, 1, 1], [1, 2, 1, 1]]"
            ]
          },
          "metadata": {},
          "execution_count": 3
        }
      ]
    }
  ]
}